{
 "cells": [
  {
   "cell_type": "markdown",
   "metadata": {},
   "source": [
    "# Preparación inicial del Dataset airport reviews"
   ]
  },
  {
   "cell_type": "code",
   "execution_count": 1,
   "metadata": {},
   "outputs": [],
   "source": [
    "import pandas as pd\n",
    "import numpy as np"
   ]
  },
  {
   "cell_type": "code",
   "execution_count": 53,
   "metadata": {},
   "outputs": [],
   "source": [
    "# Cargar datos\n",
    "df = pd.read_csv(\"airport.csv\")"
   ]
  },
  {
   "cell_type": "markdown",
   "metadata": {},
   "source": [
    "### Seleccioné las columnas relevantes para la correcta manipulación en este parcial, sobre todo datos numéricos de los ratings, y el tipo de viajero que tiene 4 opciones como se ve a continuación:"
   ]
  },
  {
   "cell_type": "code",
   "execution_count": 57,
   "metadata": {},
   "outputs": [
    {
     "name": "stdout",
     "output_type": "stream",
     "text": [
      "Cantidad de valores únicos en 'type_traveller': 4\n",
      "Valores únicos en 'type_traveller': [nan 'Business' 'FamilyLeisure' 'Couple Leisure' 'Solo Leisure']\n"
     ]
    }
   ],
   "source": [
    "cols = [\n",
    "    \"type_traveller\",\n",
    "    \"overall_rating\",\n",
    "    \"queuing_rating\",\n",
    "    \"terminal_cleanliness_rating\",\n",
    "    \"food_beverages_rating\",\n",
    "    \"airport_shopping_rating\",\n",
    "    \"wifi_connectivity_rating\",\n",
    "    \"recommended\"\n",
    "]\n",
    "df = df[cols]\n",
    "print(\"Cantidad de valores únicos en 'type_traveller':\", df['type_traveller'].nunique())\n",
    "print(\"Valores únicos en 'type_traveller':\", df['type_traveller'].unique())"
   ]
  },
  {
   "cell_type": "markdown",
   "metadata": {},
   "source": [
    "### Aplico un mapeo para volver estos tipos en datos numéricos:"
   ]
  },
  {
   "cell_type": "code",
   "execution_count": null,
   "metadata": {},
   "outputs": [],
   "source": [
    "df[\"type_traveller\"] = df[\"type_traveller\"].map({\n",
    "    \"Solo\": 0,\n",
    "    \"Family\": 1,\n",
    "    \"Business\": 2,\n",
    "    \"Couple\": 3\n",
    "})\n",
    "\n"
   ]
  },
  {
   "cell_type": "markdown",
   "metadata": {},
   "source": [
    "## Convierto los datos en numericos y relleno de 0 los campos vacíos en recommended."
   ]
  },
  {
   "cell_type": "code",
   "execution_count": null,
   "metadata": {},
   "outputs": [],
   "source": [
    "df[\"recommended\"] = pd.to_numeric(df[\"recommended\"], errors=\"coerce\").fillna(0).astype(int)\n",
    "df = df.replace(\"\", np.nan)\n",
    "for col in df.columns:\n",
    "    if df[col].dtype == \"float64\":\n",
    "        df[col] = df[col].fillna(df[col].median())\n",
    "df_clean = df"
   ]
  },
  {
   "cell_type": "markdown",
   "metadata": {},
   "source": [
    "## Reemplazo los campos vacíos o 0 en los ratings con la media."
   ]
  },
  {
   "cell_type": "code",
   "execution_count": null,
   "metadata": {},
   "outputs": [],
   "source": [
    "rating_cols = [\n",
    "    'queuing_rating', 'terminal_cleanliness_rating', \n",
    "    'food_beverages_rating', 'airport_shopping_rating',\n",
    "    'wifi_connectivity_rating'\n",
    "]\n",
    "for col in rating_cols:\n",
    "    df_clean[col] = df_clean[col].replace(0, df_clean[col].median())"
   ]
  },
  {
   "cell_type": "markdown",
   "metadata": {},
   "source": [
    "## Y guardo"
   ]
  },
  {
   "cell_type": "code",
   "execution_count": null,
   "metadata": {},
   "outputs": [],
   "source": [
    "\n",
    "df.to_csv(\"airport_clean.csv\", index=False)"
   ]
  }
 ],
 "metadata": {
  "kernelspec": {
   "display_name": "Python 3",
   "language": "python",
   "name": "python3"
  },
  "language_info": {
   "codemirror_mode": {
    "name": "ipython",
    "version": 3
   },
   "file_extension": ".py",
   "mimetype": "text/x-python",
   "name": "python",
   "nbconvert_exporter": "python",
   "pygments_lexer": "ipython3",
   "version": "3.11.8"
  }
 },
 "nbformat": 4,
 "nbformat_minor": 2
}
