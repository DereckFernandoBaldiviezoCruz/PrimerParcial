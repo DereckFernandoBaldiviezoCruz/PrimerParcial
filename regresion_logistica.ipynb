{
 "cells": [
  {
   "cell_type": "markdown",
   "metadata": {},
   "source": [
    "# Regresión logística para clasificación binaria\n",
    "Para este parcial, usé eñ dataset 'Skytrax' Air Travel Reviews Dataset, especificamente las reviews de aeropuertos, el propósito es \"predecir\" si un pasajero recomentaría un aeropuerto, tomando en cuenta las siguientes características:\n",
    "- Tipo de viajero\n",
    "- Rating general\n",
    "- Rating de colas\n",
    "- Rating limpieza terminal\n",
    "- Rating comida/bebidas\n",
    "- Rating tiendas\n",
    "- Rating WiFi"
   ]
  },
  {
   "cell_type": "code",
   "execution_count": 1,
   "metadata": {},
   "outputs": [
    {
     "name": "stderr",
     "output_type": "stream",
     "text": [
      "Matplotlib is building the font cache; this may take a moment.\n"
     ]
    }
   ],
   "source": [
    "import numpy as np\n",
    "from matplotlib import pyplot as plt"
   ]
  },
  {
   "cell_type": "markdown",
   "metadata": {},
   "source": [
    "## Carga de Datos"
   ]
  },
  {
   "cell_type": "code",
   "execution_count": 2,
   "metadata": {},
   "outputs": [],
   "source": [
    "data = np.loadtxt('airport_clean.csv', delimiter=',', skiprows=1)\n",
    "X = data[:, :-1]\n",
    "y = data[:, -1]\n",
    "X_original = X.copy()  # Guarda antes de normalizar"
   ]
  },
  {
   "cell_type": "markdown",
   "metadata": {},
   "source": [
    "## Normalización de los Datos"
   ]
  },
  {
   "cell_type": "code",
   "execution_count": 3,
   "metadata": {},
   "outputs": [],
   "source": [
    "# 2. Normalización (Z-score)\n",
    "def normalize(X):\n",
    "    mean = np.mean(X, axis=0)\n",
    "    std = np.std(X, axis=0)\n",
    "    return (X - mean) / (std + 1e-8)\n",
    "\n",
    "X_normalized = normalize(X)"
   ]
  },
  {
   "cell_type": "markdown",
   "metadata": {},
   "source": [
    "## Agrega el término de intersección"
   ]
  },
  {
   "cell_type": "code",
   "execution_count": 4,
   "metadata": {},
   "outputs": [],
   "source": [
    "X = np.concatenate([np.ones((X.shape[0], 1)), X_normalized], axis=1)"
   ]
  },
  {
   "cell_type": "markdown",
   "metadata": {},
   "source": [
    "## División del dataset en datos de entrenamiento, validación y prueba"
   ]
  },
  {
   "cell_type": "code",
   "execution_count": 5,
   "metadata": {},
   "outputs": [],
   "source": [
    "indices = np.random.permutation(len(X))\n",
    "train_size = int(0.7 * len(X))\n",
    "val_size = int(0.15 * len(X))\n",
    "\n",
    "X_train, X_val, X_test = (\n",
    "    X[indices[:train_size]],\n",
    "    X[indices[train_size:train_size + val_size]],\n",
    "    X[indices[train_size + val_size:]]\n",
    ")\n",
    "y_train, y_val, y_test = (\n",
    "    y[indices[:train_size]],\n",
    "    y[indices[train_size:train_size + val_size]],\n",
    "    y[indices[train_size + val_size:]]\n",
    ")"
   ]
  },
  {
   "cell_type": "markdown",
   "metadata": {},
   "source": [
    "## Función Sigmoidea\n",
    "La hipotesis para la regresión logistica se define como:\n",
    "\n",
    "$$ h_\\theta(x) = g(\\theta^T x)$$\n",
    "\n",
    "donde la función $g$ is la función sigmoidea. La función sigmoidea se define como:\n",
    "\n",
    "$$g(z) = \\frac{1}{1+e^{-z}}$$"
   ]
  },
  {
   "cell_type": "code",
   "execution_count": 6,
   "metadata": {},
   "outputs": [],
   "source": [
    "def sigmoid(z):\n",
    "    return 1 / (1 + np.exp(-z))"
   ]
  },
  {
   "cell_type": "markdown",
   "metadata": {},
   "source": [
    "## Funciones para calcular la precisión y el costo\n",
    "La funcion de costo en una regresión logistica es:\n",
    "\n",
    "$$ J(\\theta) = \\frac{1}{m} \\sum_{i=1}^{m} \\left[ -y^{(i)} \\log\\left(h_\\theta\\left( x^{(i)} \\right) \\right) - \\left( 1 - y^{(i)}\\right) \\log \\left( 1 - h_\\theta\\left( x^{(i)} \\right) \\right) \\right]$$"
   ]
  },
  {
   "cell_type": "code",
   "execution_count": 7,
   "metadata": {},
   "outputs": [],
   "source": [
    "def accuracy(X, y, theta):\n",
    "    return np.mean((sigmoid(X.dot(theta)) >= 0.5).astype(int) == y) * 100\n",
    "\n",
    "def compute_cost(theta, X, y):\n",
    "    m = len(y)\n",
    "    h = sigmoid(X.dot(theta))\n",
    "    return (1 / m) * np.sum(-y * np.log(h) - (1 - y) * np.log(1 - h))"
   ]
  },
  {
   "cell_type": "markdown",
   "metadata": {},
   "source": [
    "## Función de descenso por el gradiente\n",
    "El gradiente del costo es un vector de la misma longitud como $\\theta$ donde el elemento $j^{th}$ (para $j = 0, 1, \\cdots , n$) se define como:\n",
    "\n",
    "$$ \\frac{\\partial J(\\theta)}{\\partial \\theta_j} = \\frac{1}{m} \\sum_{i=1}^m \\left( h_\\theta \\left( x^{(i)} \\right) - y^{(i)} \\right) x_j^{(i)} $$"
   ]
  },
  {
   "cell_type": "code",
   "execution_count": 8,
   "metadata": {},
   "outputs": [],
   "source": [
    "def gradient_descent(X_train, y_train, X_val, y_val, theta, alpha, iterations):\n",
    "    m = len(y_train)\n",
    "    train_cost_history = []\n",
    "    val_cost_history = []\n",
    "    train_acc_history = []\n",
    "    val_acc_history = []\n",
    "    \n",
    "    for i in range(iterations):\n",
    "        h = sigmoid(X_train.dot(theta))\n",
    "        theta -= (alpha / m) * (h - y_train).dot(X_train)\n",
    "        \n",
    "        train_cost = compute_cost(theta, X_train, y_train)\n",
    "        val_cost = compute_cost(theta, X_val, y_val)\n",
    "        train_cost_history.append(train_cost)\n",
    "        val_cost_history.append(val_cost)\n",
    "        \n",
    "        train_acc = accuracy(X_train, y_train, theta)\n",
    "        val_acc = accuracy(X_val, y_val, theta)\n",
    "        train_acc_history.append(train_acc)\n",
    "        val_acc_history.append(val_acc)\n",
    "        \n",
    "        if i % 50 == 0:\n",
    "            print(f\"Iteración {i}: Costo Train = {train_cost:.4f}, Costo Val = {val_cost:.4f}\")\n",
    "            print(f\"Precisión Train = {train_acc:.2f}%, Precisión Val = {val_acc:.2f}%\")\n",
    "    \n",
    "    return theta, train_cost_history, val_cost_history, train_acc_history, val_acc_history\n"
   ]
  },
  {
   "cell_type": "markdown",
   "metadata": {},
   "source": [
    "## Entrenamiento y Validación"
   ]
  },
  {
   "cell_type": "markdown",
   "metadata": {},
   "source": [
    "En los hiperparámetros usé un alpha de 0.8 y 300 iteraciones, más alla no había mejora significativa"
   ]
  },
  {
   "cell_type": "code",
   "execution_count": 9,
   "metadata": {},
   "outputs": [
    {
     "name": "stdout",
     "output_type": "stream",
     "text": [
      "\n",
      "Entrenando modelo...\n",
      "Iteración 0: Costo Train = 0.4934, Costo Val = 0.4959\n",
      "Precisión Train = 90.12%, Precisión Val = 89.77%\n",
      "Iteración 50: Costo Train = 0.1511, Costo Val = 0.1473\n",
      "Precisión Train = 95.79%, Precisión Val = 95.71%\n",
      "Iteración 100: Costo Train = 0.1351, Costo Val = 0.1300\n",
      "Precisión Train = 96.18%, Precisión Val = 96.24%\n",
      "Iteración 150: Costo Train = 0.1298, Costo Val = 0.1241\n",
      "Precisión Train = 96.26%, Precisión Val = 96.46%\n",
      "Iteración 200: Costo Train = 0.1275, Costo Val = 0.1214\n",
      "Precisión Train = 96.40%, Precisión Val = 96.43%\n",
      "Iteración 250: Costo Train = 0.1263, Costo Val = 0.1199\n",
      "Precisión Train = 96.44%, Precisión Val = 96.61%\n"
     ]
    }
   ],
   "source": [
    "alpha = 0.8\n",
    "iterations = 300\n",
    "initial_theta = np.zeros(X.shape[1])\n",
    "\n",
    "print(\"\\nEntrenando modelo...\")\n",
    "theta, train_cost, val_cost, train_acc, val_acc = gradient_descent(\n",
    "    X_train, y_train, X_val, y_val, initial_theta, alpha, iterations\n",
    ")"
   ]
  },
  {
   "cell_type": "markdown",
   "metadata": {},
   "source": [
    "## Gráfica de las curvas de costos y precisión en los datos de entrenamiento y validación"
   ]
  },
  {
   "cell_type": "code",
   "execution_count": 10,
   "metadata": {},
   "outputs": [
    {
     "data": {
      "image/png": "[encoded data removed]",
      "text/plain": [
       "<Figure size 1200x500 with 2 Axes>"
      ]
     },
     "metadata": {},
     "output_type": "display_data"
    }
   ],
   "source": [
    "plt.figure(figsize=(12, 5))\n",
    "\n",
    "plt.subplot(1, 2, 1)\n",
    "plt.plot(train_cost, label='Train', color='blue')\n",
    "plt.plot(val_cost, label='Validation', color='red')\n",
    "plt.title('Curvas de Costo', fontsize=14)\n",
    "plt.xlabel('Iteraciones', fontsize=12)\n",
    "plt.ylabel('Costo', fontsize=12)\n",
    "plt.legend()\n",
    "plt.grid(True)\n",
    "\n",
    "plt.subplot(1, 2, 2)\n",
    "plt.plot(train_acc, label='Train', color='blue')\n",
    "plt.plot(val_acc, label='Validation', color='red')\n",
    "plt.title('Evolución de la Precisión', fontsize=14)\n",
    "plt.xlabel('Iteraciones', fontsize=12)\n",
    "plt.ylabel('Precisión (%)', fontsize=12)\n",
    "plt.legend()\n",
    "plt.ylim(87, 100)\n",
    "plt.grid(True)\n",
    "plt.tight_layout()\n",
    "plt.show()\n"
   ]
  },
  {
   "cell_type": "markdown",
   "metadata": {},
   "source": [
    "## Resultados Finales"
   ]
  },
  {
   "cell_type": "code",
   "execution_count": 11,
   "metadata": {},
   "outputs": [
    {
     "name": "stdout",
     "output_type": "stream",
     "text": [
      "\n",
      "Precisión Final:\n",
      "- Train: 96.42%\n",
      "- Validación: 96.61%\n",
      "- Test: 95.60%\n",
      "\n",
      "Theta óptimo: [-2.76037632  0.          4.15554677  0.0358381   0.29548992  0.30094717\n",
      " -0.13716841  0.17653159]\n"
     ]
    }
   ],
   "source": [
    "test_acc = accuracy(X_test, y_test, theta)\n",
    "\n",
    "print(f\"\\nPrecisión Final:\")\n",
    "print(f\"- Train: {train_acc[-1]:.2f}%\")\n",
    "print(f\"- Validación: {val_acc[-1]:.2f}%\")\n",
    "print(f\"- Test: {test_acc:.2f}%\")\n",
    "print(\"\\nTheta óptimo:\", theta)"
   ]
  },
  {
   "cell_type": "markdown",
   "metadata": {},
   "source": [
    "## PREDICCIONES SOBRE EJEMPLOS DEL TEST"
   ]
  },
  {
   "cell_type": "code",
   "execution_count": 38,
   "metadata": {},
   "outputs": [
    {
     "name": "stdout",
     "output_type": "stream",
     "text": [
      "\n",
      "==================================================\n",
      "PREDICCIONES SOBRE EJEMPLOS DEL CONJUNTO DE TEST\n",
      "==================================================\n",
      "\n",
      "\n",
      "Ejemplo 1:\n",
      "------------------------------\n",
      "Tipo de viajero: Business\n",
      "Rating general: 1.0\n",
      "Rating de colas: 3.0\n",
      "Rating limpieza terminal: 3.0\n",
      "Rating comida/bebidas: 2.0\n",
      "Rating tiendas: 3.0\n",
      "Rating WiFi: 2.0\n",
      "\n",
      ">>>>>>>>>> PREDICCIÓN <<<<<<<<<<\n",
      "Probabilidad: 0.0068\n",
      "Predicción: No recomendaría\n",
      "Real: No recomendaría\n",
      "¿Acierto?: ✅\n",
      "------------------------------\n",
      "\n",
      "\n",
      "Ejemplo 2:\n",
      "------------------------------\n",
      "Tipo de viajero: Business\n",
      "Rating general: 2.0\n",
      "Rating de colas: 3.0\n",
      "Rating limpieza terminal: 3.0\n",
      "Rating comida/bebidas: 2.0\n",
      "Rating tiendas: 3.0\n",
      "Rating WiFi: 2.0\n",
      "\n",
      ">>>>>>>>>> PREDICCIÓN <<<<<<<<<<\n",
      "Probabilidad: 0.0369\n",
      "Predicción: No recomendaría\n",
      "Real: No recomendaría\n",
      "¿Acierto?: ✅\n",
      "------------------------------\n",
      "\n",
      "\n",
      "Ejemplo 3:\n",
      "------------------------------\n",
      "Tipo de viajero: Business\n",
      "Rating general: 2.0\n",
      "Rating de colas: 3.0\n",
      "Rating limpieza terminal: 3.0\n",
      "Rating comida/bebidas: 2.0\n",
      "Rating tiendas: 3.0\n",
      "Rating WiFi: 2.0\n",
      "\n",
      ">>>>>>>>>> PREDICCIÓN <<<<<<<<<<\n",
      "Probabilidad: 0.0369\n",
      "Predicción: No recomendaría\n",
      "Real: No recomendaría\n",
      "¿Acierto?: ✅\n",
      "------------------------------\n",
      "\n",
      "\n",
      "Ejemplo 4:\n",
      "------------------------------\n",
      "Tipo de viajero: Business\n",
      "Rating general: 9.0\n",
      "Rating de colas: 4.0\n",
      "Rating limpieza terminal: 5.0\n",
      "Rating comida/bebidas: 2.0\n",
      "Rating tiendas: 4.0\n",
      "Rating WiFi: 2.0\n",
      "\n",
      ">>>>>>>>>> PREDICCIÓN <<<<<<<<<<\n",
      "Probabilidad: 0.0467\n",
      "Predicción: No recomendaría\n",
      "Real: No recomendaría\n",
      "¿Acierto?: ✅\n",
      "------------------------------\n",
      "\n",
      "\n",
      "Ejemplo 5:\n",
      "------------------------------\n",
      "Tipo de viajero: Business\n",
      "Rating general: 1.0\n",
      "Rating de colas: 3.0\n",
      "Rating limpieza terminal: 3.0\n",
      "Rating comida/bebidas: 2.0\n",
      "Rating tiendas: 3.0\n",
      "Rating WiFi: 2.0\n",
      "\n",
      ">>>>>>>>>> PREDICCIÓN <<<<<<<<<<\n",
      "Probabilidad: 0.9995\n",
      "Predicción: Recomendaría\n",
      "Real: Recomendaría\n",
      "¿Acierto?: ✅\n",
      "------------------------------\n",
      "\n"
     ]
    }
   ],
   "source": [
    "inverse_type_traveller = {\n",
    "    0: \"Solo\",\n",
    "    1: \"Family\", \n",
    "    2: \"Business\",\n",
    "    3: \"Couple\"\n",
    "}\n",
    "\n",
    "sample_indices = np.random.choice(len(X_test), size=5, replace=False)\n",
    "sample_X = X_test[sample_indices]\n",
    "sample_X_original = X_original[sample_indices]\n",
    "sample_y = y_test[sample_indices]\n",
    "\n",
    "print(\"\\n\" + \"=\"*50)\n",
    "print(\"PREDICCIONES SOBRE EJEMPLOS DEL CONJUNTO DE TEST\")\n",
    "print(\"=\"*50 + \"\\n\")\n",
    "\n",
    "for i, (features, original, true_label) in enumerate(zip(sample_X, sample_X_original, sample_y)):\n",
    "    features_original = original  \n",
    "    \n",
    "    prob = sigmoid(np.dot(features, theta))\n",
    "    prediction = 1 if prob >= 0.5 else 0\n",
    "    \n",
    "    print(f\"\\nEjemplo {i+1}:\")\n",
    "    print(\"-\"*30)\n",
    "    print(f\"Tipo de viajero: {inverse_type_traveller.get(int(features_original[0]))}\")\n",
    "    print(f\"Rating general: {features_original[1]:.1f}\")\n",
    "    print(f\"Rating de colas: {features_original[2]:.1f}\")\n",
    "    print(f\"Rating limpieza terminal: {features_original[3]:.1f}\")\n",
    "    print(f\"Rating comida/bebidas: {features_original[4]:.1f}\")\n",
    "    print(f\"Rating tiendas: {features_original[5]:.1f}\")\n",
    "    print(f\"Rating WiFi: {features_original[6]:.1f}\")\n",
    "    print(\"\\n\" + \">\"*10 + \" PREDICCIÓN \" + \"<\"*10)\n",
    "    print(f\"Probabilidad: {prob:.4f}\")\n",
    "    print(f\"Predicción: {'Recomendaría' if prediction == 1 else 'No recomendaría'}\")\n",
    "    print(f\"Real: {'Recomendaría' if true_label == 1 else 'No recomendaría'}\")\n",
    "    print(\"¿Acierto?:\", \"✅\" if prediction == true_label else \"❌\")\n",
    "    print(\"-\"*30 + \"\\n\")"
   ]
  }
 ],
 "metadata": {
  "kernelspec": {
   "display_name": "Python 3",
   "language": "python",
   "name": "python3"
  },
  "language_info": {
   "codemirror_mode": {
    "name": "ipython",
    "version": 3
   },
   "file_extension": ".py",
   "mimetype": "text/x-python",
   "name": "python",
   "nbconvert_exporter": "python",
   "pygments_lexer": "ipython3",
   "version": "3.11.8"
  }
 },
 "nbformat": 4,
 "nbformat_minor": 2
}
