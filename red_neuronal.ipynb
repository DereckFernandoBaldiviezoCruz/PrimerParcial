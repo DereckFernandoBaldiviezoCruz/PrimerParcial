{
 "cells": [
  {
   "cell_type": "markdown",
   "metadata": {},
   "source": [
    "# MLP para Clasificación\n",
    "Para este parcial, usé eñ dataset 'Skytrax' Air Travel Reviews Dataset, especificamente las reviews de aeropuertos, el propósito es \"predecir\" si un pasajero recomentaría un aeropuerto, tomando en cuenta las siguientes características:\n",
    "- Tipo de viajero\n",
    "- Rating general\n",
    "- Rating de colas\n",
    "- Rating limpieza terminal\n",
    "- Rating comida/bebidas\n",
    "- Rating tiendas\n",
    "- Rating WiFi"
   ]
  },
  {
   "cell_type": "code",
   "execution_count": 14,
   "metadata": {},
   "outputs": [],
   "source": [
    "import torch\n",
    "import torch.nn as nn\n",
    "import torch.optim as optim\n",
    "from torch.utils.data import DataLoader, TensorDataset, random_split\n",
    "import numpy as np\n",
    "import matplotlib.pyplot as plt"
   ]
  },
  {
   "cell_type": "markdown",
   "metadata": {},
   "source": [
    "#### Configuración del dispositivo"
   ]
  },
  {
   "cell_type": "code",
   "execution_count": 15,
   "metadata": {},
   "outputs": [
    {
     "name": "stdout",
     "output_type": "stream",
     "text": [
      "Usando dispositivo: cpu\n"
     ]
    }
   ],
   "source": [
    "device = torch.device(\"cuda\" if torch.cuda.is_available() else \"cpu\")\n",
    "print(f\"Usando dispositivo: {device}\")"
   ]
  },
  {
   "cell_type": "code",
   "execution_count": null,
   "metadata": {},
   "outputs": [],
   "source": [
    "data = np.loadtxt('airport_clean.csv', delimiter=',', skiprows=1)\n",
    "X = data[:, :-1]\n",
    "y = data[:, -1]"
   ]
  },
  {
   "cell_type": "markdown",
   "metadata": {},
   "source": [
    "## Preparación de datos\n",
    "Normalizamos"
   ]
  },
  {
   "cell_type": "code",
   "execution_count": null,
   "metadata": {},
   "outputs": [],
   "source": [
    "def normalize(X):\n",
    "    mean = np.mean(X, axis=0)\n",
    "    std = np.std(X, axis=0)\n",
    "    return (X - mean) / (std + 1e-8)\n",
    "\n",
    "X_normalized = normalize(X)"
   ]
  },
  {
   "cell_type": "markdown",
   "metadata": {},
   "source": [
    "Llevamos a tensores para poder operar en GPU o CPU"
   ]
  },
  {
   "cell_type": "code",
   "execution_count": null,
   "metadata": {},
   "outputs": [],
   "source": [
    "X_tensor = torch.FloatTensor(X_normalized)\n",
    "y_tensor = torch.FloatTensor(y).unsqueeze(1)  # (N, 1) y en float\n",
    "\n",
    "dataset = TensorDataset(X_tensor, y_tensor)"
   ]
  },
  {
   "cell_type": "markdown",
   "metadata": {},
   "source": [
    "Dividimos en datos de entrenamiento(70%), validación(15%) y pruebas(15%)"
   ]
  },
  {
   "cell_type": "code",
   "execution_count": null,
   "metadata": {},
   "outputs": [],
   "source": [
    "train_size = int(0.7 * len(dataset))\n",
    "val_size = int(0.15 * len(dataset))\n",
    "test_size = len(dataset) - train_size - val_size\n",
    "\n",
    "train_dataset, val_dataset, test_dataset = random_split(\n",
    "    dataset, [train_size, val_size, test_size]\n",
    ")"
   ]
  },
  {
   "cell_type": "markdown",
   "metadata": {},
   "source": [
    "Usamos Dataloader para manejar cargas en lotes, en este caso usando batch_size=32"
   ]
  },
  {
   "cell_type": "code",
   "execution_count": 20,
   "metadata": {},
   "outputs": [],
   "source": [
    "batch_size = 32\n",
    "train_loader = DataLoader(train_dataset, batch_size=batch_size, shuffle=True)\n",
    "val_loader = DataLoader(val_dataset, batch_size=batch_size, shuffle=False)\n",
    "test_loader = DataLoader(test_dataset, batch_size=batch_size, shuffle=False)"
   ]
  },
  {
   "cell_type": "markdown",
   "metadata": {},
   "source": [
    "## Definición del modelo MLP"
   ]
  },
  {
   "cell_type": "markdown",
   "metadata": {},
   "source": [
    "La mejor configuración que encontré fue usar 2 capas ocultas, 20 neuronas en la primera capa, 5 en la segunda capa.\n",
    "Usé sigmoide en la última capa ya que se trata de un modelo de clasificación binaria"
   ]
  },
  {
   "cell_type": "code",
   "execution_count": 21,
   "metadata": {},
   "outputs": [],
   "source": [
    "class AirportClassifier(nn.Module):\n",
    "    def __init__(self, input_size):\n",
    "        super(AirportClassifier, self).__init__()\n",
    "        self.layers = nn.Sequential(\n",
    "            nn.Linear(input_size, 20),\n",
    "            nn.ReLU(),\n",
    "            nn.Linear(20, 5),\n",
    "            nn.ReLU(),\n",
    "            nn.Linear(5, 1),\n",
    "            nn.Sigmoid()\n",
    "        )\n",
    "    \n",
    "    def forward(self, x):\n",
    "        return self.layers(x)\n",
    "\n",
    "model = AirportClassifier(X.shape[1]).to(device)"
   ]
  },
  {
   "cell_type": "markdown",
   "metadata": {},
   "source": [
    "## Optimizador y función de pérdida"
   ]
  },
  {
   "cell_type": "markdown",
   "metadata": {},
   "source": [
    "Usé el optimizador SGD con un learning rate de 0.001, y para la función de pérdida BCELoss ya que se trata de un modelo de clasificación binaria."
   ]
  },
  {
   "cell_type": "code",
   "execution_count": null,
   "metadata": {},
   "outputs": [],
   "source": [
    "optimizer = optim.SGD(model.parameters(), lr=0.001)\n",
    "criterion = nn.BCELoss()"
   ]
  },
  {
   "cell_type": "markdown",
   "metadata": {},
   "source": [
    "## Funciones de evaluación"
   ]
  },
  {
   "cell_type": "markdown",
   "metadata": {},
   "source": [
    "Para hacer la predicción hago una comparación, si los outputs obtenidos en rango de 0 a 1 son mayores a 0.5(50%) nos da true, que quiere decir que si recomendaria el aeropuerto en cuestión."
   ]
  },
  {
   "cell_type": "code",
   "execution_count": null,
   "metadata": {},
   "outputs": [],
   "source": [
    "def evaluate(model, data_loader):\n",
    "    model.eval()\n",
    "    correct = 0\n",
    "    total = 0\n",
    "    running_loss = 0.0\n",
    "    \n",
    "    with torch.no_grad():\n",
    "        for inputs, labels in data_loader:\n",
    "            inputs, labels = inputs.to(device), labels.to(device)\n",
    "            outputs = model(inputs)\n",
    "            loss = criterion(outputs, labels)\n",
    "            running_loss += loss.item()\n",
    "            predicted = (outputs > 0.5).float()\n",
    "            total += labels.size(0)\n",
    "            correct += (predicted == labels).sum().item()\n",
    "    \n",
    "    avg_loss = running_loss / len(data_loader)\n",
    "    accuracy = 100 * correct / total\n",
    "    return accuracy, avg_loss"
   ]
  },
  {
   "cell_type": "markdown",
   "metadata": {},
   "source": [
    "## Entrenamiento del modelo con detección de overfitting y underfitting"
   ]
  },
  {
   "cell_type": "markdown",
   "metadata": {},
   "source": [
    "Lo que hice aquí es definir los hiperparámetros, con un patience o paciencia de 20 épocas para el early stopping, si en 20 épocas la presición en datos de validación no mejora, se detiene.\n",
    "Hace comparaciones entre la presición en datos de entrenamiento y evaluación, si esta diferencia es mayor a 15% nos arroja una alerta de overfitting(sobre entrenamiento), si la presición no es mayor a 60% arroja advertencia de posible underfitting(falta de entrenamiento)"
   ]
  },
  {
   "cell_type": "code",
   "execution_count": null,
   "metadata": {},
   "outputs": [
    {
     "name": "stdout",
     "output_type": "stream",
     "text": [
      "Iniciando entrenamiento...\n",
      "Época 1/200\n",
      "  Train - Loss: 0.7520, Accuracy: 22.44%\n",
      "  Val   - Loss: 0.7202, Accuracy: 26.41%\n",
      "  ¡Mejor modelo guardado!\n",
      "Época 2/200\n",
      "  Train - Loss: 0.6935, Accuracy: 46.50%\n",
      "  Val   - Loss: 0.6663, Accuracy: 81.38%\n",
      "  ¡Mejor modelo guardado!\n",
      "Época 3/200\n",
      "  Train - Loss: 0.6413, Accuracy: 87.21%\n",
      "  Val   - Loss: 0.6180, Accuracy: 85.70%\n",
      "  ¡Mejor modelo guardado!\n",
      "Época 4/200\n",
      "  Train - Loss: 0.5943, Accuracy: 82.80%\n",
      "  Val   - Loss: 0.5741, Accuracy: 81.38%\n",
      "Época 5/200\n",
      "  Train - Loss: 0.5513, Accuracy: 81.18%\n",
      "  Val   - Loss: 0.5334, Accuracy: 80.66%\n",
      "Época 6/200\n",
      "  Train - Loss: 0.5112, Accuracy: 81.10%\n",
      "  Val   - Loss: 0.4945, Accuracy: 81.04%\n",
      "Época 7/200\n",
      "  Train - Loss: 0.4728, Accuracy: 81.39%\n",
      "  Val   - Loss: 0.4570, Accuracy: 81.53%\n",
      "Época 8/200\n",
      "  Train - Loss: 0.4362, Accuracy: 83.11%\n",
      "  Val   - Loss: 0.4214, Accuracy: 82.99%\n",
      "Época 9/200\n",
      "  Train - Loss: 0.4027, Accuracy: 85.21%\n",
      "  Val   - Loss: 0.3891, Accuracy: 86.53%\n",
      "  ¡Mejor modelo guardado!\n",
      "Época 10/200\n",
      "  Train - Loss: 0.3723, Accuracy: 87.25%\n",
      "  Val   - Loss: 0.3597, Accuracy: 89.73%\n",
      "  ¡Mejor modelo guardado!\n",
      "Época 11/200\n",
      "  Train - Loss: 0.3447, Accuracy: 89.41%\n",
      "  Val   - Loss: 0.3328, Accuracy: 90.63%\n",
      "  ¡Mejor modelo guardado!\n",
      "Época 12/200\n",
      "  Train - Loss: 0.3197, Accuracy: 90.26%\n",
      "  Val   - Loss: 0.3082, Accuracy: 91.91%\n",
      "  ¡Mejor modelo guardado!\n",
      "Época 13/200\n",
      "  Train - Loss: 0.2970, Accuracy: 91.50%\n",
      "  Val   - Loss: 0.2860, Accuracy: 92.59%\n",
      "  ¡Mejor modelo guardado!\n",
      "Época 14/200\n",
      "  Train - Loss: 0.2765, Accuracy: 92.47%\n",
      "  Val   - Loss: 0.2658, Accuracy: 93.08%\n",
      "  ¡Mejor modelo guardado!\n",
      "Época 15/200\n",
      "  Train - Loss: 0.2579, Accuracy: 92.88%\n",
      "  Val   - Loss: 0.2475, Accuracy: 93.57%\n",
      "  ¡Mejor modelo guardado!\n",
      "Época 16/200\n",
      "  Train - Loss: 0.2412, Accuracy: 93.87%\n",
      "  Val   - Loss: 0.2313, Accuracy: 94.62%\n",
      "  ¡Mejor modelo guardado!\n",
      "Época 17/200\n",
      "  Train - Loss: 0.2266, Accuracy: 94.50%\n",
      "  Val   - Loss: 0.2172, Accuracy: 95.15%\n",
      "  ¡Mejor modelo guardado!\n",
      "Época 18/200\n",
      "  Train - Loss: 0.2140, Accuracy: 94.75%\n",
      "  Val   - Loss: 0.2050, Accuracy: 95.41%\n",
      "  ¡Mejor modelo guardado!\n",
      "Época 19/200\n",
      "  Train - Loss: 0.2029, Accuracy: 94.99%\n",
      "  Val   - Loss: 0.1944, Accuracy: 95.64%\n",
      "  ¡Mejor modelo guardado!\n",
      "Época 20/200\n",
      "  Train - Loss: 0.1937, Accuracy: 95.15%\n",
      "  Val   - Loss: 0.1853, Accuracy: 95.90%\n",
      "  ¡Mejor modelo guardado!\n",
      "Época 21/200\n",
      "  Train - Loss: 0.1854, Accuracy: 95.29%\n",
      "  Val   - Loss: 0.1774, Accuracy: 96.01%\n",
      "  ¡Mejor modelo guardado!\n",
      "Época 22/200\n",
      "  Train - Loss: 0.1786, Accuracy: 95.37%\n",
      "  Val   - Loss: 0.1706, Accuracy: 96.05%\n",
      "  ¡Mejor modelo guardado!\n",
      "Época 23/200\n",
      "  Train - Loss: 0.1721, Accuracy: 95.52%\n",
      "  Val   - Loss: 0.1647, Accuracy: 96.16%\n",
      "  ¡Mejor modelo guardado!\n",
      "Época 24/200\n",
      "  Train - Loss: 0.1668, Accuracy: 95.59%\n",
      "  Val   - Loss: 0.1595, Accuracy: 96.20%\n",
      "  ¡Mejor modelo guardado!\n",
      "Época 25/200\n",
      "  Train - Loss: 0.1621, Accuracy: 95.60%\n",
      "  Val   - Loss: 0.1549, Accuracy: 96.20%\n",
      "Época 26/200\n",
      "  Train - Loss: 0.1580, Accuracy: 95.61%\n",
      "  Val   - Loss: 0.1508, Accuracy: 96.20%\n",
      "Época 27/200\n",
      "  Train - Loss: 0.1542, Accuracy: 95.62%\n",
      "  Val   - Loss: 0.1472, Accuracy: 96.24%\n",
      "  ¡Mejor modelo guardado!\n",
      "Época 28/200\n",
      "  Train - Loss: 0.1509, Accuracy: 95.84%\n",
      "  Val   - Loss: 0.1440, Accuracy: 96.28%\n",
      "  ¡Mejor modelo guardado!\n",
      "Época 29/200\n",
      "  Train - Loss: 0.1479, Accuracy: 95.87%\n",
      "  Val   - Loss: 0.1411, Accuracy: 96.31%\n",
      "  ¡Mejor modelo guardado!\n",
      "Época 30/200\n",
      "  Train - Loss: 0.1452, Accuracy: 95.95%\n",
      "  Val   - Loss: 0.1385, Accuracy: 96.43%\n",
      "  ¡Mejor modelo guardado!\n",
      "Época 31/200\n",
      "  Train - Loss: 0.1429, Accuracy: 95.98%\n",
      "  Val   - Loss: 0.1362, Accuracy: 96.39%\n",
      "Época 32/200\n",
      "  Train - Loss: 0.1406, Accuracy: 96.01%\n",
      "  Val   - Loss: 0.1341, Accuracy: 96.43%\n",
      "Época 33/200\n",
      "  Train - Loss: 0.1387, Accuracy: 96.02%\n",
      "  Val   - Loss: 0.1322, Accuracy: 96.43%\n",
      "Época 34/200\n",
      "  Train - Loss: 0.1369, Accuracy: 96.03%\n",
      "  Val   - Loss: 0.1304, Accuracy: 96.43%\n",
      "Época 35/200\n",
      "  Train - Loss: 0.1354, Accuracy: 96.03%\n",
      "  Val   - Loss: 0.1289, Accuracy: 96.43%\n",
      "Época 36/200\n",
      "  Train - Loss: 0.1336, Accuracy: 96.03%\n",
      "  Val   - Loss: 0.1275, Accuracy: 96.43%\n",
      "Época 37/200\n",
      "  Train - Loss: 0.1323, Accuracy: 96.03%\n",
      "  Val   - Loss: 0.1262, Accuracy: 96.43%\n",
      "Época 38/200\n",
      "  Train - Loss: 0.1311, Accuracy: 96.03%\n",
      "  Val   - Loss: 0.1251, Accuracy: 96.50%\n",
      "  ¡Mejor modelo guardado!\n",
      "Época 39/200\n",
      "  Train - Loss: 0.1300, Accuracy: 96.07%\n",
      "  Val   - Loss: 0.1241, Accuracy: 96.54%\n",
      "  ¡Mejor modelo guardado!\n",
      "Época 40/200\n",
      "  Train - Loss: 0.1293, Accuracy: 96.12%\n",
      "  Val   - Loss: 0.1231, Accuracy: 96.61%\n",
      "  ¡Mejor modelo guardado!\n",
      "Época 41/200\n",
      "  Train - Loss: 0.1282, Accuracy: 96.17%\n",
      "  Val   - Loss: 0.1223, Accuracy: 96.61%\n",
      "Época 42/200\n",
      "  Train - Loss: 0.1273, Accuracy: 96.19%\n",
      "  Val   - Loss: 0.1215, Accuracy: 96.58%\n",
      "Época 43/200\n",
      "  Train - Loss: 0.1265, Accuracy: 96.20%\n",
      "  Val   - Loss: 0.1208, Accuracy: 96.58%\n",
      "Época 44/200\n",
      "  Train - Loss: 0.1257, Accuracy: 96.22%\n",
      "  Val   - Loss: 0.1201, Accuracy: 96.58%\n",
      "Época 45/200\n",
      "  Train - Loss: 0.1251, Accuracy: 96.24%\n",
      "  Val   - Loss: 0.1196, Accuracy: 96.58%\n",
      "Época 46/200\n",
      "  Train - Loss: 0.1247, Accuracy: 96.24%\n",
      "  Val   - Loss: 0.1190, Accuracy: 96.54%\n",
      "Época 47/200\n",
      "  Train - Loss: 0.1240, Accuracy: 96.31%\n",
      "  Val   - Loss: 0.1185, Accuracy: 96.54%\n",
      "Época 48/200\n",
      "  Train - Loss: 0.1237, Accuracy: 96.31%\n",
      "  Val   - Loss: 0.1181, Accuracy: 96.54%\n",
      "Época 49/200\n",
      "  Train - Loss: 0.1230, Accuracy: 96.31%\n",
      "  Val   - Loss: 0.1177, Accuracy: 96.54%\n",
      "Época 50/200\n",
      "  Train - Loss: 0.1226, Accuracy: 96.31%\n",
      "  Val   - Loss: 0.1173, Accuracy: 96.54%\n",
      "Época 51/200\n",
      "  Train - Loss: 0.1225, Accuracy: 96.31%\n",
      "  Val   - Loss: 0.1170, Accuracy: 96.50%\n",
      "Época 52/200\n",
      "  Train - Loss: 0.1218, Accuracy: 96.29%\n",
      "  Val   - Loss: 0.1167, Accuracy: 96.50%\n",
      "Época 53/200\n",
      "  Train - Loss: 0.1216, Accuracy: 96.30%\n",
      "  Val   - Loss: 0.1164, Accuracy: 96.46%\n",
      "Época 54/200\n",
      "  Train - Loss: 0.1212, Accuracy: 96.34%\n",
      "  Val   - Loss: 0.1161, Accuracy: 96.46%\n",
      "Época 55/200\n",
      "  Train - Loss: 0.1208, Accuracy: 96.36%\n",
      "  Val   - Loss: 0.1159, Accuracy: 96.46%\n",
      "Época 56/200\n",
      "  Train - Loss: 0.1208, Accuracy: 96.36%\n",
      "  Val   - Loss: 0.1157, Accuracy: 96.46%\n",
      "Época 57/200\n",
      "  Train - Loss: 0.1202, Accuracy: 96.36%\n",
      "  Val   - Loss: 0.1155, Accuracy: 96.46%\n",
      "Época 58/200\n",
      "  Train - Loss: 0.1200, Accuracy: 96.42%\n",
      "  Val   - Loss: 0.1153, Accuracy: 96.43%\n",
      "Época 59/200\n",
      "  Train - Loss: 0.1200, Accuracy: 96.43%\n",
      "  Val   - Loss: 0.1151, Accuracy: 96.43%\n",
      "Época 60/200\n",
      "  Train - Loss: 0.1195, Accuracy: 96.44%\n",
      "  Val   - Loss: 0.1150, Accuracy: 96.39%\n",
      "  Early stopping después de 20 épocas sin mejora\n",
      "Entrenamiento finalizado. Mejor precisión de validación: 96.61%\n"
     ]
    }
   ],
   "source": [
    "num_epochs = 200\n",
    "best_val_acc = 0\n",
    "patience = 20\n",
    "no_improve = 0\n",
    "\n",
    "train_losses = []\n",
    "val_losses = []\n",
    "train_accuracies = []\n",
    "val_accuracies = []\n",
    "\n",
    "print(\"Iniciando entrenamiento...\")\n",
    "for epoch in range(num_epochs):\n",
    "    model.train()\n",
    "    running_loss = 0.0\n",
    "    correct = 0\n",
    "    total = 0\n",
    "    \n",
    "    for inputs, labels in train_loader:\n",
    "        inputs, labels = inputs.to(device), labels.to(device)\n",
    "        \n",
    "        optimizer.zero_grad()\n",
    "        outputs = model(inputs)\n",
    "        loss = criterion(outputs, labels)\n",
    "        loss.backward()\n",
    "        optimizer.step()\n",
    "        \n",
    "        predicted = (outputs > 0.5).float()\n",
    "        total += labels.size(0)\n",
    "        correct += (predicted == labels).sum().item()\n",
    "        running_loss += loss.item()\n",
    "    \n",
    "    train_avg_loss = running_loss / len(train_loader)\n",
    "    train_accuracy = 100 * correct / total\n",
    "    \n",
    "    val_accuracy, val_avg_loss = evaluate(model, val_loader)\n",
    "    \n",
    "    train_losses.append(train_avg_loss)\n",
    "    val_losses.append(val_avg_loss)\n",
    "    train_accuracies.append(train_accuracy)\n",
    "    val_accuracies.append(val_accuracy)\n",
    "    \n",
    "    print(f\"Época {epoch+1}/{num_epochs}\")\n",
    "    print(f\"  Train - Loss: {train_avg_loss:.4f}, Accuracy: {train_accuracy:.2f}%\")\n",
    "    print(f\"  Val   - Loss: {val_avg_loss:.4f}, Accuracy: {val_accuracy:.2f}%\")\n",
    "    \n",
    "    # Early stopping y guardar mejor modelo\n",
    "    if val_accuracy > best_val_acc:\n",
    "        best_val_acc = val_accuracy\n",
    "        no_improve = 0\n",
    "        torch.save(model.state_dict(), 'best_airport_model.pth')\n",
    "        print(\"  ¡Mejor modelo guardado!\")\n",
    "    else:\n",
    "        no_improve += 1\n",
    "        if no_improve >= patience:\n",
    "            print(f\"  Early stopping después de {patience} épocas sin mejora\")\n",
    "            break\n",
    "    \n",
    "    # Alertas de underfitting/overfitting\n",
    "    if epoch > 10 and train_accuracy < 60:\n",
    "        print(\"  ⚠️ Posible underfitting - Accuracy de entrenamiento muy baja\")\n",
    "    \n",
    "    if epoch > 10 and (train_accuracy - val_accuracy) > 15:\n",
    "        print(\"  ⚠️ Posible overfitting - Gran diferencia entre precisión de train y val\")\n",
    "        \n",
    "print(f\"Entrenamiento finalizado. Mejor precisión de validación: {best_val_acc:.2f}%\")"
   ]
  },
  {
   "cell_type": "markdown",
   "metadata": {},
   "source": [
    "## Evaluación y análisis de resultados"
   ]
  },
  {
   "cell_type": "markdown",
   "metadata": {},
   "source": [
    "Cargamos el modelo óptimo que cargamos antes para usarlo para evaluar los datos de test."
   ]
  },
  {
   "cell_type": "code",
   "execution_count": null,
   "metadata": {},
   "outputs": [
    {
     "name": "stdout",
     "output_type": "stream",
     "text": [
      "\n",
      "Precisión final en test: 95.19%\n"
     ]
    }
   ],
   "source": [
    "model.load_state_dict(torch.load('best_airport_model.pth'))\n",
    "test_accuracy, test_loss = evaluate(model, test_loader)\n",
    "print(f\"\\nPrecisión final en test: {test_accuracy:.2f}%\")"
   ]
  },
  {
   "cell_type": "markdown",
   "metadata": {},
   "source": [
    "## Gráfica de las 2 curvas de pérdidas y presición, tanto para datos de entrenamiento y de validación"
   ]
  },
  {
   "cell_type": "code",
   "execution_count": null,
   "metadata": {},
   "outputs": [
    {
     "data": {
      "image/png": "[encoded data removed]",
      "text/plain": [
       "<Figure size 1200x500 with 2 Axes>"
      ]
     },
     "metadata": {},
     "output_type": "display_data"
    }
   ],
   "source": [
    "plt.figure(figsize=(12, 5))\n",
    "\n",
    "plt.subplot(1, 2, 1)\n",
    "plt.plot(train_losses, label='Train')\n",
    "plt.plot(val_losses, label='Validation')\n",
    "plt.title('Curvas de Pérdida')\n",
    "plt.xlabel('Épocas')\n",
    "plt.ylabel('Pérdida')\n",
    "plt.legend()\n",
    "\n",
    "plt.subplot(1, 2, 2)\n",
    "plt.plot(train_accuracies, label='Train')\n",
    "plt.plot(val_accuracies, label='Validation')\n",
    "plt.title('Curvas de Precisión')\n",
    "plt.xlabel('Épocas')\n",
    "plt.ylabel('Precisión (%)')\n",
    "plt.legend()\n",
    "\n",
    "plt.tight_layout()\n",
    "plt.show()"
   ]
  },
  {
   "cell_type": "markdown",
   "metadata": {},
   "source": [
    "## Predicciones"
   ]
  },
  {
   "cell_type": "code",
   "execution_count": null,
   "metadata": {},
   "outputs": [
    {
     "name": "stdout",
     "output_type": "stream",
     "text": [
      "\n",
      "Ejemplo de predicción:\n",
      "type_traveller: Solo\n",
      "overall_rating: 1.57\n",
      "queuing_rating: 0.11\n",
      "terminal_cleanliness: 0.59\n",
      "food_beverages: -0.07\n",
      "airport_shopping: 0.05\n",
      "wifi_connectivity: -0.05\n",
      "\n",
      "Probabilidad de recomendar: 0.71\n",
      "Predicción: Recomendar\n",
      "Real: Recomendar\n"
     ]
    }
   ],
   "source": [
    "traveller_map = {\n",
    "    \"Solo\": 0,\n",
    "    \"Family\": 1,\n",
    "    \"Business\": 2,\n",
    "    \"Couple\": 3\n",
    "}\n",
    "inverse_traveller_map = {v: k for k, v in traveller_map.items()}\n",
    "def predict_example(model, data, target, feature_names):\n",
    "    model.eval()\n",
    "    with torch.no_grad():\n",
    "        data_tensor = torch.FloatTensor(data).to(device)\n",
    "        output = model(data_tensor.unsqueeze(0))\n",
    "        prob = torch.sigmoid(output)\n",
    "        predicted = (prob > 0.57).long()\n",
    "        \n",
    "    print(\"\\nEjemplo de predicción:\")\n",
    "    for i, (name, value) in enumerate(zip(feature_names, data)):\n",
    "        if name == \"type_traveller\":\n",
    "            tipo = inverse_traveller_map[int(round(value))]\n",
    "            print(f\"{name}: {tipo}\")\n",
    "        else:\n",
    "            print(f\"{name}: {value:.2f}\")\n",
    "    \n",
    "    print(f\"\\nProbabilidad de recomendar: {prob.item():.2f}\")\n",
    "    print(f\"Predicción: {'Recomendar' if predicted.item() == 1 else 'No recomendar'}\")\n",
    "    print(f\"Real: {'Recomendar' if target == 1 else 'No recomendar'}\")\n",
    "\n",
    "feature_names = [\n",
    "    \"type_traveller\", \"overall_rating\", \"queuing_rating\", \n",
    "    \"terminal_cleanliness\", \"food_beverages\", \"airport_shopping\", \n",
    "    \"wifi_connectivity\"\n",
    "]\n",
    "\n",
    "sample_idx = np.random.randint(len(test_dataset))\n",
    "sample_data, sample_target = test_dataset[sample_idx]\n",
    "predict_example(model, sample_data.numpy(), sample_target.item(), feature_names)"
   ]
  }
 ],
 "metadata": {
  "kernelspec": {
   "display_name": "Python 3",
   "language": "python",
   "name": "python3"
  },
  "language_info": {
   "codemirror_mode": {
    "name": "ipython",
    "version": 3
   },
   "file_extension": ".py",
   "mimetype": "text/x-python",
   "name": "python",
   "nbconvert_exporter": "python",
   "pygments_lexer": "ipython3",
   "version": "3.11.8"
  }
 },
 "nbformat": 4,
 "nbformat_minor": 2
}
